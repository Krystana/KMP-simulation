{
 "cells": [
  {
   "cell_type": "code",
   "execution_count": 1,
   "metadata": {},
   "outputs": [],
   "source": [
    "import numpy as np\n",
    "import pandas as pd\n",
    "import matplotlib.pyplot as plt\n",
    "import seaborn as sns\n",
    "sns.set_style(\"whitegrid\")"
   ]
  },
  {
   "cell_type": "code",
   "execution_count": 2,
   "metadata": {},
   "outputs": [
    {
     "data": {
      "text/html": [
       "<div>\n",
       "<style scoped>\n",
       "    .dataframe tbody tr th:only-of-type {\n",
       "        vertical-align: middle;\n",
       "    }\n",
       "\n",
       "    .dataframe tbody tr th {\n",
       "        vertical-align: top;\n",
       "    }\n",
       "\n",
       "    .dataframe thead th {\n",
       "        text-align: right;\n",
       "    }\n",
       "</style>\n",
       "<table border=\"1\" class=\"dataframe\">\n",
       "  <thead>\n",
       "    <tr style=\"text-align: right;\">\n",
       "      <th></th>\n",
       "      <th>timestamp</th>\n",
       "      <th>unq_id</th>\n",
       "      <th>customer_no</th>\n",
       "      <th>location</th>\n",
       "      <th>revenue_per_minute</th>\n",
       "    </tr>\n",
       "  </thead>\n",
       "  <tbody>\n",
       "    <tr>\n",
       "      <th>0</th>\n",
       "      <td>2019-09-02 07:03:00</td>\n",
       "      <td>Cust2019-09-02 07:03:001</td>\n",
       "      <td>1</td>\n",
       "      <td>dairy</td>\n",
       "      <td>5</td>\n",
       "    </tr>\n",
       "    <tr>\n",
       "      <th>1</th>\n",
       "      <td>2019-09-02 07:03:00</td>\n",
       "      <td>Cust2019-09-02 07:03:002</td>\n",
       "      <td>2</td>\n",
       "      <td>dairy</td>\n",
       "      <td>5</td>\n",
       "    </tr>\n",
       "    <tr>\n",
       "      <th>2</th>\n",
       "      <td>2019-09-02 07:04:00</td>\n",
       "      <td>Cust2019-09-02 07:04:003</td>\n",
       "      <td>3</td>\n",
       "      <td>dairy</td>\n",
       "      <td>5</td>\n",
       "    </tr>\n",
       "    <tr>\n",
       "      <th>3</th>\n",
       "      <td>2019-09-02 07:04:00</td>\n",
       "      <td>Cust2019-09-02 07:04:004</td>\n",
       "      <td>4</td>\n",
       "      <td>dairy</td>\n",
       "      <td>5</td>\n",
       "    </tr>\n",
       "    <tr>\n",
       "      <th>4</th>\n",
       "      <td>2019-09-02 07:04:00</td>\n",
       "      <td>Cust2019-09-02 07:04:005</td>\n",
       "      <td>5</td>\n",
       "      <td>spices</td>\n",
       "      <td>3</td>\n",
       "    </tr>\n",
       "  </tbody>\n",
       "</table>\n",
       "</div>"
      ],
      "text/plain": [
       "            timestamp                    unq_id  customer_no location  \\\n",
       "0 2019-09-02 07:03:00  Cust2019-09-02 07:03:001            1    dairy   \n",
       "1 2019-09-02 07:03:00  Cust2019-09-02 07:03:002            2    dairy   \n",
       "2 2019-09-02 07:04:00  Cust2019-09-02 07:04:003            3    dairy   \n",
       "3 2019-09-02 07:04:00  Cust2019-09-02 07:04:004            4    dairy   \n",
       "4 2019-09-02 07:04:00  Cust2019-09-02 07:04:005            5   spices   \n",
       "\n",
       "   revenue_per_minute  \n",
       "0                   5  \n",
       "1                   5  \n",
       "2                   5  \n",
       "3                   5  \n",
       "4                   3  "
      ]
     },
     "execution_count": 2,
     "metadata": {},
     "output_type": "execute_result"
    }
   ],
   "source": [
    "monday = pd.read_csv('data/monday.csv', delimiter =';')\n",
    "tuesday = pd.read_csv('data/tuesday.csv', delimiter =';' )\n",
    "wednesday = pd.read_csv('data/wednesday.csv', delimiter =';')\n",
    "thursday = pd.read_csv('data/thursday.csv', delimiter =';')\n",
    "friday = pd.read_csv('data/friday.csv', delimiter =';')\n",
    "df = pd.concat([monday, tuesday, wednesday, thursday, friday], axis = 0)\n",
    "\n",
    "df['timestamp'] = pd.to_datetime(df['timestamp'])\n",
    "#df['day'] = df['timestamp'].dt.day\n",
    "\n",
    "conditions = [\n",
    "    (df['location'] == \"fruit\"),\n",
    "    (df['location'] == \"spices\"),\n",
    "    (df['location'] == \"dairy\"),\n",
    "    (df['location'] == \"drinks\"),\n",
    "    ]\n",
    "\n",
    "values = [4, 3, 5, 6]\n",
    "\n",
    "df['revenue_per_minute'] = np.select(conditions, values)\n",
    "\n",
    "# df[\"unq_id\"] = 'Cust' + df[\"day\"].astype(str) + df[\"customer_no\"].astype(str)\n",
    "\n",
    "df[\"unq_id\"] = 'Cust' + df[\"timestamp\"].astype(str) + df[\"customer_no\"].astype(str)\n",
    "\n",
    "df = df[['timestamp', 'unq_id', 'customer_no', 'location' , 'revenue_per_minute']] # 'day',\n",
    "\n",
    "#df['time'] = df['timestamp'].dt.time\n",
    "\n",
    "df = df[['timestamp', 'unq_id', 'customer_no', 'location' , 'revenue_per_minute']] # 'time', 'day',\n",
    "\n",
    "df.head()"
   ]
  },
  {
   "cell_type": "code",
   "execution_count": 3,
   "metadata": {},
   "outputs": [
    {
     "data": {
      "text/html": [
       "<div>\n",
       "<style scoped>\n",
       "    .dataframe tbody tr th:only-of-type {\n",
       "        vertical-align: middle;\n",
       "    }\n",
       "\n",
       "    .dataframe tbody tr th {\n",
       "        vertical-align: top;\n",
       "    }\n",
       "\n",
       "    .dataframe thead th {\n",
       "        text-align: right;\n",
       "    }\n",
       "</style>\n",
       "<table border=\"1\" class=\"dataframe\">\n",
       "  <thead>\n",
       "    <tr style=\"text-align: right;\">\n",
       "      <th></th>\n",
       "      <th>unq_id</th>\n",
       "      <th>customer_no</th>\n",
       "      <th>location</th>\n",
       "      <th>revenue_per_minute</th>\n",
       "    </tr>\n",
       "    <tr>\n",
       "      <th>timestamp</th>\n",
       "      <th></th>\n",
       "      <th></th>\n",
       "      <th></th>\n",
       "      <th></th>\n",
       "    </tr>\n",
       "  </thead>\n",
       "  <tbody>\n",
       "    <tr>\n",
       "      <th>2019-09-02 07:03:00</th>\n",
       "      <td>Cust2019-09-02 07:03:001</td>\n",
       "      <td>1</td>\n",
       "      <td>dairy</td>\n",
       "      <td>5</td>\n",
       "    </tr>\n",
       "    <tr>\n",
       "      <th>2019-09-02 07:05:00</th>\n",
       "      <td>Cust2019-09-02 07:05:001</td>\n",
       "      <td>1</td>\n",
       "      <td>checkout</td>\n",
       "      <td>0</td>\n",
       "    </tr>\n",
       "    <tr>\n",
       "      <th>2019-09-03 07:02:00</th>\n",
       "      <td>Cust2019-09-03 07:02:001</td>\n",
       "      <td>1</td>\n",
       "      <td>fruit</td>\n",
       "      <td>4</td>\n",
       "    </tr>\n",
       "    <tr>\n",
       "      <th>2019-09-03 07:05:00</th>\n",
       "      <td>Cust2019-09-03 07:05:001</td>\n",
       "      <td>1</td>\n",
       "      <td>drinks</td>\n",
       "      <td>6</td>\n",
       "    </tr>\n",
       "    <tr>\n",
       "      <th>2019-09-03 07:12:00</th>\n",
       "      <td>Cust2019-09-03 07:12:001</td>\n",
       "      <td>1</td>\n",
       "      <td>checkout</td>\n",
       "      <td>0</td>\n",
       "    </tr>\n",
       "  </tbody>\n",
       "</table>\n",
       "</div>"
      ],
      "text/plain": [
       "                                       unq_id  customer_no  location  \\\n",
       "timestamp                                                              \n",
       "2019-09-02 07:03:00  Cust2019-09-02 07:03:001            1     dairy   \n",
       "2019-09-02 07:05:00  Cust2019-09-02 07:05:001            1  checkout   \n",
       "2019-09-03 07:02:00  Cust2019-09-03 07:02:001            1     fruit   \n",
       "2019-09-03 07:05:00  Cust2019-09-03 07:05:001            1    drinks   \n",
       "2019-09-03 07:12:00  Cust2019-09-03 07:12:001            1  checkout   \n",
       "\n",
       "                     revenue_per_minute  \n",
       "timestamp                                \n",
       "2019-09-02 07:03:00                   5  \n",
       "2019-09-02 07:05:00                   0  \n",
       "2019-09-03 07:02:00                   4  \n",
       "2019-09-03 07:05:00                   6  \n",
       "2019-09-03 07:12:00                   0  "
      ]
     },
     "execution_count": 3,
     "metadata": {},
     "output_type": "execute_result"
    }
   ],
   "source": [
    "df = df.sort_values(['customer_no', 'timestamp'])\n",
    "df = df.set_index('timestamp')\n",
    "df.head()\n",
    "# df.head(50)\n",
    "# df.tail(20)\n",
    "#df.tail(20)"
   ]
  },
  {
   "cell_type": "code",
   "execution_count": null,
   "metadata": {},
   "outputs": [],
   "source": [
    "df['before'] = df['location'].shift(1)\n",
    "df = df.groupby('unq_id').resample('1min').fillna('ffill')\n",
    "#df['time'] = df['timestamp'].dt.time\n",
    "df"
   ]
  },
  {
   "cell_type": "code",
   "execution_count": null,
   "metadata": {},
   "outputs": [],
   "source": [
    "df = df.reset_index(level = 1)"
   ]
  },
  {
   "cell_type": "code",
   "execution_count": null,
   "metadata": {},
   "outputs": [],
   "source": [
    "df.head()"
   ]
  },
  {
   "cell_type": "code",
   "execution_count": null,
   "metadata": {},
   "outputs": [],
   "source": [
    "df['time'] = df['timestamp'].dt.time\n",
    "df['day'] = df['timestamp'].dt.day\n",
    "df.head()"
   ]
  },
  {
   "cell_type": "code",
   "execution_count": null,
   "metadata": {},
   "outputs": [],
   "source": [
    "trans_prob = round(pd.crosstab(df['location'], df['before'], normalize=0),3)\n",
    "trans_prob"
   ]
  },
  {
   "cell_type": "code",
   "execution_count": null,
   "metadata": {},
   "outputs": [],
   "source": [
    "trans_prob.to_csv('trans_prob.csv', index=True)"
   ]
  }
 ],
 "metadata": {
  "kernelspec": {
   "display_name": "Python 3",
   "language": "python",
   "name": "python3"
  },
  "language_info": {
   "codemirror_mode": {
    "name": "ipython",
    "version": 3
   },
   "file_extension": ".py",
   "mimetype": "text/x-python",
   "name": "python",
   "nbconvert_exporter": "python",
   "pygments_lexer": "ipython3",
   "version": "3.8.5"
  }
 },
 "nbformat": 4,
 "nbformat_minor": 4
}
