{
 "cells": [
  {
   "cell_type": "code",
   "execution_count": 8,
   "metadata": {},
   "outputs": [],
   "source": [
    "import pandas as pd \n",
    "import numpy as np \n",
    "\n",
    "trans_mat =  pd.read_csv(\"/Users/krystanafoh/repos/KMP-simulation/data_analysis/trans_prob.csv\")\n",
    "trans_mat_2 =  pd.read_csv(\"/Users/krystanafoh/repos/KMP-simulation/data_analysis/trans_prob_2.csv\")"
   ]
  },
  {
   "cell_type": "code",
   "execution_count": 3,
   "metadata": {},
   "outputs": [
    {
     "data": {
      "text/html": [
       "<div>\n",
       "<style scoped>\n",
       "    .dataframe tbody tr th:only-of-type {\n",
       "        vertical-align: middle;\n",
       "    }\n",
       "\n",
       "    .dataframe tbody tr th {\n",
       "        vertical-align: top;\n",
       "    }\n",
       "\n",
       "    .dataframe thead th {\n",
       "        text-align: right;\n",
       "    }\n",
       "</style>\n",
       "<table border=\"1\" class=\"dataframe\">\n",
       "  <thead>\n",
       "    <tr style=\"text-align: right;\">\n",
       "      <th></th>\n",
       "      <th>location</th>\n",
       "      <th>checkout</th>\n",
       "      <th>dairy</th>\n",
       "      <th>drinks</th>\n",
       "      <th>fruit</th>\n",
       "      <th>spices</th>\n",
       "    </tr>\n",
       "  </thead>\n",
       "  <tbody>\n",
       "    <tr>\n",
       "      <th>0</th>\n",
       "      <td>checkout</td>\n",
       "      <td>0.000</td>\n",
       "      <td>0.246</td>\n",
       "      <td>0.283</td>\n",
       "      <td>0.344</td>\n",
       "      <td>0.127</td>\n",
       "    </tr>\n",
       "    <tr>\n",
       "      <th>1</th>\n",
       "      <td>dairy</td>\n",
       "      <td>0.456</td>\n",
       "      <td>0.000</td>\n",
       "      <td>0.023</td>\n",
       "      <td>0.261</td>\n",
       "      <td>0.260</td>\n",
       "    </tr>\n",
       "    <tr>\n",
       "      <th>2</th>\n",
       "      <td>drinks</td>\n",
       "      <td>0.290</td>\n",
       "      <td>0.268</td>\n",
       "      <td>0.001</td>\n",
       "      <td>0.178</td>\n",
       "      <td>0.263</td>\n",
       "    </tr>\n",
       "    <tr>\n",
       "      <th>3</th>\n",
       "      <td>fruit</td>\n",
       "      <td>0.547</td>\n",
       "      <td>0.174</td>\n",
       "      <td>0.167</td>\n",
       "      <td>0.001</td>\n",
       "      <td>0.111</td>\n",
       "    </tr>\n",
       "    <tr>\n",
       "      <th>4</th>\n",
       "      <td>spices</td>\n",
       "      <td>0.358</td>\n",
       "      <td>0.245</td>\n",
       "      <td>0.225</td>\n",
       "      <td>0.172</td>\n",
       "      <td>0.000</td>\n",
       "    </tr>\n",
       "  </tbody>\n",
       "</table>\n",
       "</div>"
      ],
      "text/plain": [
       "   location  checkout  dairy  drinks  fruit  spices\n",
       "0  checkout     0.000  0.246   0.283  0.344   0.127\n",
       "1     dairy     0.456  0.000   0.023  0.261   0.260\n",
       "2    drinks     0.290  0.268   0.001  0.178   0.263\n",
       "3     fruit     0.547  0.174   0.167  0.001   0.111\n",
       "4    spices     0.358  0.245   0.225  0.172   0.000"
      ]
     },
     "execution_count": 3,
     "metadata": {},
     "output_type": "execute_result"
    }
   ],
   "source": [
    "trans_mat"
   ]
  },
  {
   "cell_type": "code",
   "execution_count": 5,
   "metadata": {},
   "outputs": [],
   "source": [
    "trans_mat = trans_mat.set_index('location')"
   ]
  },
  {
   "cell_type": "code",
   "execution_count": 6,
   "metadata": {},
   "outputs": [
    {
     "data": {
      "text/html": [
       "<div>\n",
       "<style scoped>\n",
       "    .dataframe tbody tr th:only-of-type {\n",
       "        vertical-align: middle;\n",
       "    }\n",
       "\n",
       "    .dataframe tbody tr th {\n",
       "        vertical-align: top;\n",
       "    }\n",
       "\n",
       "    .dataframe thead th {\n",
       "        text-align: right;\n",
       "    }\n",
       "</style>\n",
       "<table border=\"1\" class=\"dataframe\">\n",
       "  <thead>\n",
       "    <tr style=\"text-align: right;\">\n",
       "      <th></th>\n",
       "      <th>checkout</th>\n",
       "      <th>dairy</th>\n",
       "      <th>drinks</th>\n",
       "      <th>fruit</th>\n",
       "      <th>spices</th>\n",
       "    </tr>\n",
       "    <tr>\n",
       "      <th>location</th>\n",
       "      <th></th>\n",
       "      <th></th>\n",
       "      <th></th>\n",
       "      <th></th>\n",
       "      <th></th>\n",
       "    </tr>\n",
       "  </thead>\n",
       "  <tbody>\n",
       "    <tr>\n",
       "      <th>checkout</th>\n",
       "      <td>0.000</td>\n",
       "      <td>0.246</td>\n",
       "      <td>0.283</td>\n",
       "      <td>0.344</td>\n",
       "      <td>0.127</td>\n",
       "    </tr>\n",
       "    <tr>\n",
       "      <th>dairy</th>\n",
       "      <td>0.456</td>\n",
       "      <td>0.000</td>\n",
       "      <td>0.023</td>\n",
       "      <td>0.261</td>\n",
       "      <td>0.260</td>\n",
       "    </tr>\n",
       "    <tr>\n",
       "      <th>drinks</th>\n",
       "      <td>0.290</td>\n",
       "      <td>0.268</td>\n",
       "      <td>0.001</td>\n",
       "      <td>0.178</td>\n",
       "      <td>0.263</td>\n",
       "    </tr>\n",
       "    <tr>\n",
       "      <th>fruit</th>\n",
       "      <td>0.547</td>\n",
       "      <td>0.174</td>\n",
       "      <td>0.167</td>\n",
       "      <td>0.001</td>\n",
       "      <td>0.111</td>\n",
       "    </tr>\n",
       "    <tr>\n",
       "      <th>spices</th>\n",
       "      <td>0.358</td>\n",
       "      <td>0.245</td>\n",
       "      <td>0.225</td>\n",
       "      <td>0.172</td>\n",
       "      <td>0.000</td>\n",
       "    </tr>\n",
       "  </tbody>\n",
       "</table>\n",
       "</div>"
      ],
      "text/plain": [
       "          checkout  dairy  drinks  fruit  spices\n",
       "location                                        \n",
       "checkout     0.000  0.246   0.283  0.344   0.127\n",
       "dairy        0.456  0.000   0.023  0.261   0.260\n",
       "drinks       0.290  0.268   0.001  0.178   0.263\n",
       "fruit        0.547  0.174   0.167  0.001   0.111\n",
       "spices       0.358  0.245   0.225  0.172   0.000"
      ]
     },
     "execution_count": 6,
     "metadata": {},
     "output_type": "execute_result"
    }
   ],
   "source": [
    "trans_mat\n"
   ]
  },
  {
   "cell_type": "code",
   "execution_count": 12,
   "metadata": {
    "scrolled": true
   },
   "outputs": [],
   "source": [
    "trans_mat_2 = trans_mat_2.drop(columns='Unnamed: 0', axis=1).set_index('location')"
   ]
  },
  {
   "cell_type": "code",
   "execution_count": 20,
   "metadata": {},
   "outputs": [],
   "source": [
    "trans_mat_2.loc['entrance'][0] = 0.0"
   ]
  },
  {
   "cell_type": "code",
   "execution_count": 26,
   "metadata": {},
   "outputs": [],
   "source": [
    "trans_mat_2['entrance'] = [0.0 ,0.0 ,0.0 ,0.0 ,0.0 ,0.0]"
   ]
  },
  {
   "cell_type": "code",
   "execution_count": 27,
   "metadata": {},
   "outputs": [
    {
     "data": {
      "text/html": [
       "<div>\n",
       "<style scoped>\n",
       "    .dataframe tbody tr th:only-of-type {\n",
       "        vertical-align: middle;\n",
       "    }\n",
       "\n",
       "    .dataframe tbody tr th {\n",
       "        vertical-align: top;\n",
       "    }\n",
       "\n",
       "    .dataframe thead th {\n",
       "        text-align: right;\n",
       "    }\n",
       "</style>\n",
       "<table border=\"1\" class=\"dataframe\">\n",
       "  <thead>\n",
       "    <tr style=\"text-align: right;\">\n",
       "      <th></th>\n",
       "      <th>checkout</th>\n",
       "      <th>dairy</th>\n",
       "      <th>drinks</th>\n",
       "      <th>fruit</th>\n",
       "      <th>spices</th>\n",
       "      <th>entrance</th>\n",
       "    </tr>\n",
       "    <tr>\n",
       "      <th>location</th>\n",
       "      <th></th>\n",
       "      <th></th>\n",
       "      <th></th>\n",
       "      <th></th>\n",
       "      <th></th>\n",
       "      <th></th>\n",
       "    </tr>\n",
       "  </thead>\n",
       "  <tbody>\n",
       "    <tr>\n",
       "      <th>checkout</th>\n",
       "      <td>0.000</td>\n",
       "      <td>0.246</td>\n",
       "      <td>0.283</td>\n",
       "      <td>0.344</td>\n",
       "      <td>0.127</td>\n",
       "      <td>0.0</td>\n",
       "    </tr>\n",
       "    <tr>\n",
       "      <th>dairy</th>\n",
       "      <td>0.453</td>\n",
       "      <td>0.000</td>\n",
       "      <td>0.007</td>\n",
       "      <td>0.272</td>\n",
       "      <td>0.268</td>\n",
       "      <td>0.0</td>\n",
       "    </tr>\n",
       "    <tr>\n",
       "      <th>drinks</th>\n",
       "      <td>0.291</td>\n",
       "      <td>0.271</td>\n",
       "      <td>0.001</td>\n",
       "      <td>0.177</td>\n",
       "      <td>0.260</td>\n",
       "      <td>0.0</td>\n",
       "    </tr>\n",
       "    <tr>\n",
       "      <th>fruit</th>\n",
       "      <td>0.554</td>\n",
       "      <td>0.172</td>\n",
       "      <td>0.162</td>\n",
       "      <td>0.000</td>\n",
       "      <td>0.112</td>\n",
       "      <td>0.0</td>\n",
       "    </tr>\n",
       "    <tr>\n",
       "      <th>spices</th>\n",
       "      <td>0.354</td>\n",
       "      <td>0.243</td>\n",
       "      <td>0.223</td>\n",
       "      <td>0.179</td>\n",
       "      <td>0.000</td>\n",
       "      <td>0.0</td>\n",
       "    </tr>\n",
       "    <tr>\n",
       "      <th>entrance</th>\n",
       "      <td>0.000</td>\n",
       "      <td>0.288</td>\n",
       "      <td>0.154</td>\n",
       "      <td>0.377</td>\n",
       "      <td>0.181</td>\n",
       "      <td>0.0</td>\n",
       "    </tr>\n",
       "  </tbody>\n",
       "</table>\n",
       "</div>"
      ],
      "text/plain": [
       "          checkout  dairy  drinks  fruit  spices  entrance\n",
       "location                                                  \n",
       "checkout     0.000  0.246   0.283  0.344   0.127       0.0\n",
       "dairy        0.453  0.000   0.007  0.272   0.268       0.0\n",
       "drinks       0.291  0.271   0.001  0.177   0.260       0.0\n",
       "fruit        0.554  0.172   0.162  0.000   0.112       0.0\n",
       "spices       0.354  0.243   0.223  0.179   0.000       0.0\n",
       "entrance     0.000  0.288   0.154  0.377   0.181       0.0"
      ]
     },
     "execution_count": 27,
     "metadata": {},
     "output_type": "execute_result"
    }
   ],
   "source": [
    "trans_mat_2"
   ]
  },
  {
   "cell_type": "code",
   "execution_count": 32,
   "metadata": {},
   "outputs": [
    {
     "data": {
      "text/plain": [
       "checkout    0.000\n",
       "dairy       0.288\n",
       "drinks      0.154\n",
       "fruit       0.377\n",
       "spices      0.181\n",
       "entrance    0.000\n",
       "Name: entrance, dtype: float64"
      ]
     },
     "execution_count": 32,
     "metadata": {},
     "output_type": "execute_result"
    }
   ],
   "source": [
    "#trans_mat_2.loc['entrance']"
   ]
  },
  {
   "cell_type": "code",
   "execution_count": 30,
   "metadata": {},
   "outputs": [
    {
     "data": {
      "text/plain": [
       "Index(['checkout', 'dairy', 'drinks', 'fruit', 'spices', 'entrance'], dtype='object')"
      ]
     },
     "execution_count": 30,
     "metadata": {},
     "output_type": "execute_result"
    }
   ],
   "source": [
    "#trans_mat_2.columns"
   ]
  },
  {
   "cell_type": "code",
   "execution_count": null,
   "metadata": {},
   "outputs": [],
   "source": [
    "class Customer:\n",
    "    \n",
    "    \n",
    "    \"\"\"a single customer that moves through the supermarket in a MCMC simulation\"\"\"\n",
    "    \n",
    "    def __init__(self, cust_id, state, trans_mat)#leave out state if initial state always = entrance?):\n",
    "        \n",
    "        self.cust_id = cust_id\n",
    "        self.state = state\n",
    "        self.trans_mat = trans_mat\n",
    "        \n",
    "    def __repr__(self):\n",
    "        \n",
    "        return f'<customer number = {self.cust_id}, state = {self.state}, transistion matrix = {trans_mat}>'\n",
    "\n",
    "    \n",
    "    #def initial_state(self):\n",
    "                 \n",
    "        #self.state = 'entrance'\n",
    "    \n",
    "            \n",
    "            \n",
    "    def is_active(self):\n",
    "      \"\"\"\n",
    "      Returns True if the customer has not reached the checkout\n",
    "      for the second time yet, False otherwise.\n",
    "      \"\"\"\n",
    "        if self.state == 'checkout':\n",
    "            return False\n",
    "        else:\n",
    "            return True\n",
    "        \n",
    "        \n",
    "\n",
    "    def next_state(self):\n",
    "      \"\"\"\n",
    "      Propagates the customer to the next state\n",
    "      using a weighted random choice from the transition probabilities\n",
    "      conditional on the  current state.\n",
    "      Returns nothing.\n",
    "      \"\"\"\n",
    "        \n",
    "        next_state = np.random.choice(\n",
    "            self.trans_mat.columns.values, p=self.trans_mat.loc[self.state])\n",
    "      \n",
    "        #next_state = np.random.choice(\n",
    "            #self.trans_mat_2.columns.values, p=self.trans_mat_2.loc[self.state])\n",
    "    \n",
    "        self_state = next_state\n",
    "      \n",
    "    \n",
    "    #def simulation(self):\n",
    "        \n",
    "        \n",
    "    #initial_state = \n",
    "    \n",
    "    #next_state\n",
    "        #cust1 = Customer(1, \"entrance\", transition_matrix)\n",
    "        \n",
    "        \n",
    "        \n",
    "        \n",
    "# if __name__ == '__main__': --> simulation? or def simulation?\n",
    "## get state vectors instead of state? - for animation?\n",
    "# initial state = entrance? p s for first state from entrance and start from there?\n",
    "# quit when hit checkout"
   ]
  }
 ],
 "metadata": {
  "kernelspec": {
   "display_name": "Python 3",
   "language": "python",
   "name": "python3"
  },
  "language_info": {
   "codemirror_mode": {
    "name": "ipython",
    "version": 3
   },
   "file_extension": ".py",
   "mimetype": "text/x-python",
   "name": "python",
   "nbconvert_exporter": "python",
   "pygments_lexer": "ipython3",
   "version": "3.8.5"
  }
 },
 "nbformat": 4,
 "nbformat_minor": 4
}
