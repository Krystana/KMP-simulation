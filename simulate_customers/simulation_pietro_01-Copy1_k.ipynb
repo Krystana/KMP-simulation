{
 "cells": [
  {
   "cell_type": "code",
   "execution_count": 1,
   "metadata": {},
   "outputs": [],
   "source": [
    "import pandas as pd \n",
    "import numpy as np \n"
   ]
  },
  {
   "cell_type": "code",
   "execution_count": 5,
   "metadata": {},
   "outputs": [
    {
     "name": "stdout",
     "output_type": "stream",
     "text": [
      "          checkout  dairy  drinks  fruit  spices\n",
      "location                                        \n",
      "checkout     0.999  0.000   0.000  0.000   0.000\n",
      "dairy        0.062  0.865   0.003  0.035   0.035\n",
      "drinks       0.116  0.108   0.599  0.072   0.106\n",
      "fruit        0.105  0.033   0.032  0.809   0.021\n",
      "spices       0.101  0.069   0.064  0.048   0.718\n"
     ]
    }
   ],
   "source": [
    "transition_matrix = transition_matrix = pd.read_csv(\"/Users/krystanafoh/repos/KMP-simulation/data_analysis/trans_matrix_prob.csv\")\n",
    "transition_matrix.set_index('location', inplace = True)\n",
    "#transition_matrix.drop('Unnamed: 0', axis=1, inplace=True)\n",
    "print(transition_matrix)"
   ]
  },
  {
   "cell_type": "code",
   "execution_count": 6,
   "metadata": {},
   "outputs": [
    {
     "data": {
      "text/plain": [
       "5.0"
      ]
     },
     "execution_count": 6,
     "metadata": {},
     "output_type": "execute_result"
    }
   ],
   "source": [
    "# check the matrix sum(sum each row) == 5 ---> ok!\n",
    "sum(transition_matrix.sum(axis=1))"
   ]
  },
  {
   "cell_type": "code",
   "execution_count": 7,
   "metadata": {},
   "outputs": [
    {
     "data": {
      "text/plain": [
       "checkout    0.999\n",
       "dairy       0.000\n",
       "drinks      0.000\n",
       "fruit       0.000\n",
       "spices      0.000\n",
       "Name: checkout, dtype: float64"
      ]
     },
     "execution_count": 7,
     "metadata": {},
     "output_type": "execute_result"
    }
   ],
   "source": [
    "# to select row of transition matrix: transition_matrix.iloc[i,:]\n",
    "transition_matrix.iloc[0,:]"
   ]
  },
  {
   "cell_type": "code",
   "execution_count": 8,
   "metadata": {},
   "outputs": [],
   "source": [
    "# define state\n",
    "state = ['checkout', 'dairy', 'drinks', 'fruit', 'spices']"
   ]
  },
  {
   "cell_type": "code",
   "execution_count": 9,
   "metadata": {},
   "outputs": [],
   "source": [
    "# define transition name: possible sequence of events\n",
    "transition_name = [['CkCk', 'CkDa', 'CkDr', 'CkFr', 'CkSp' ],\n",
    "                   ['DaCk', 'DaDa', 'DaDr', 'DaFr', 'DaSp' ],\n",
    "                   ['DrCk', 'DrDa', 'DrDr', 'DrFr', 'DrSp' ],\n",
    "                   ['FrCk', 'FrDa', 'FrDr', 'FrFr', 'FrSp' ],\n",
    "                   ['SpCk', 'SpDa', 'SpDr', 'SpFr', 'SpSp' ]]"
   ]
  },
  {
   "cell_type": "code",
   "execution_count": 54,
   "metadata": {},
   "outputs": [],
   "source": [
    "import numpy as np\n",
    "\n",
    "class Customer:\n",
    "    \"\"\"Customer class for Supermarket simulation\"\"\"\n",
    "    \n",
    "    def __init__(self, customer_no, state, transition_matrix):\n",
    "        self.customer_no = customer_no\n",
    "        self.state = state\n",
    "        self.transition_matrix = transition_matrix    # transition matrix\n",
    "        \n",
    "    def __repr__(self):\n",
    "        return f'Customer {self.customer_no} is in the {self.state} section.'\n",
    "         \n",
    "        \n",
    "    \n",
    "    \n",
    "    \n",
    "    def change_state(self):\n",
    "            \n",
    "            print(self.state)\n",
    "            \n",
    "               \n",
    "            self.state = np.random.choice(self.transition_matrix.columns.values, p=self.transition_matrix.loc[self.state]) #, replace=False)\n",
    "            \n",
    "   # random.choices\n",
    "\n",
    "\n",
    "\n"
   ]
  },
  {
   "cell_type": "code",
   "execution_count": 55,
   "metadata": {},
   "outputs": [],
   "source": [
    "#customer_no = [1, 2, 3, 4, 5]\n",
    "#for i in customer_no"
   ]
  },
  {
   "cell_type": "code",
   "execution_count": 58,
   "metadata": {},
   "outputs": [],
   "source": [
    "c1 = Customer(1, 'drinks', transition_matrix)"
   ]
  },
  {
   "cell_type": "code",
   "execution_count": 59,
   "metadata": {},
   "outputs": [
    {
     "name": "stdout",
     "output_type": "stream",
     "text": [
      "drinks\n"
     ]
    },
    {
     "ename": "ValueError",
     "evalue": "probabilities do not sum to 1",
     "output_type": "error",
     "traceback": [
      "\u001b[0;31m---------------------------------------------------------------------------\u001b[0m",
      "\u001b[0;31mValueError\u001b[0m                                Traceback (most recent call last)",
      "\u001b[0;32m<ipython-input-59-8c75b6f8e734>\u001b[0m in \u001b[0;36m<module>\u001b[0;34m\u001b[0m\n\u001b[0;32m----> 1\u001b[0;31m \u001b[0mc1\u001b[0m\u001b[0;34m.\u001b[0m\u001b[0mchange_state\u001b[0m\u001b[0;34m(\u001b[0m\u001b[0;34m)\u001b[0m\u001b[0;34m\u001b[0m\u001b[0;34m\u001b[0m\u001b[0m\n\u001b[0m",
      "\u001b[0;32m<ipython-input-54-aed0285fb836>\u001b[0m in \u001b[0;36mchange_state\u001b[0;34m(self)\u001b[0m\n\u001b[1;32m     21\u001b[0m \u001b[0;34m\u001b[0m\u001b[0m\n\u001b[1;32m     22\u001b[0m \u001b[0;34m\u001b[0m\u001b[0m\n\u001b[0;32m---> 23\u001b[0;31m             \u001b[0mself\u001b[0m\u001b[0;34m.\u001b[0m\u001b[0mstate\u001b[0m \u001b[0;34m=\u001b[0m \u001b[0mnp\u001b[0m\u001b[0;34m.\u001b[0m\u001b[0mrandom\u001b[0m\u001b[0;34m.\u001b[0m\u001b[0mchoice\u001b[0m\u001b[0;34m(\u001b[0m\u001b[0mself\u001b[0m\u001b[0;34m.\u001b[0m\u001b[0mtransition_matrix\u001b[0m\u001b[0;34m.\u001b[0m\u001b[0mcolumns\u001b[0m\u001b[0;34m.\u001b[0m\u001b[0mvalues\u001b[0m\u001b[0;34m,\u001b[0m \u001b[0mp\u001b[0m\u001b[0;34m=\u001b[0m\u001b[0mself\u001b[0m\u001b[0;34m.\u001b[0m\u001b[0mtransition_matrix\u001b[0m\u001b[0;34m.\u001b[0m\u001b[0mloc\u001b[0m\u001b[0;34m[\u001b[0m\u001b[0mself\u001b[0m\u001b[0;34m.\u001b[0m\u001b[0mstate\u001b[0m\u001b[0;34m]\u001b[0m\u001b[0;34m)\u001b[0m \u001b[0;31m#, replace=False)\u001b[0m\u001b[0;34m\u001b[0m\u001b[0;34m\u001b[0m\u001b[0m\n\u001b[0m\u001b[1;32m     24\u001b[0m \u001b[0;34m\u001b[0m\u001b[0m\n\u001b[1;32m     25\u001b[0m \u001b[0;34m\u001b[0m\u001b[0m\n",
      "\u001b[0;32mmtrand.pyx\u001b[0m in \u001b[0;36mnumpy.random.mtrand.RandomState.choice\u001b[0;34m()\u001b[0m\n",
      "\u001b[0;31mValueError\u001b[0m: probabilities do not sum to 1"
     ]
    }
   ],
   "source": [
    "c1.change_state()"
   ]
  },
  {
   "cell_type": "code",
   "execution_count": 60,
   "metadata": {},
   "outputs": [
    {
     "data": {
      "text/plain": [
       "'drinks'"
      ]
     },
     "execution_count": 60,
     "metadata": {},
     "output_type": "execute_result"
    }
   ],
   "source": [
    "c1.state"
   ]
  },
  {
   "cell_type": "code",
   "execution_count": 62,
   "metadata": {},
   "outputs": [
    {
     "data": {
      "text/plain": [
       "1.001"
      ]
     },
     "execution_count": 62,
     "metadata": {},
     "output_type": "execute_result"
    }
   ],
   "source": [
    "transition_matrix.loc['drinks'].sum()"
   ]
  },
  {
   "cell_type": "code",
   "execution_count": null,
   "metadata": {},
   "outputs": [],
   "source": []
  }
 ],
 "metadata": {
  "kernelspec": {
   "display_name": "Python 3",
   "language": "python",
   "name": "python3"
  },
  "language_info": {
   "codemirror_mode": {
    "name": "ipython",
    "version": 3
   },
   "file_extension": ".py",
   "mimetype": "text/x-python",
   "name": "python",
   "nbconvert_exporter": "python",
   "pygments_lexer": "ipython3",
   "version": "3.8.5"
  }
 },
 "nbformat": 4,
 "nbformat_minor": 4
}
