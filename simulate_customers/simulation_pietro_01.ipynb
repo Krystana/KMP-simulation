{
 "cells": [
  {
   "cell_type": "code",
   "execution_count": 2,
   "metadata": {},
   "outputs": [],
   "source": [
    "import pandas as pd \n",
    "import numpy as np \n"
   ]
  },
  {
   "cell_type": "code",
   "execution_count": 3,
   "metadata": {},
   "outputs": [
    {
     "name": "stdout",
     "output_type": "stream",
     "text": [
      "          checkout  dairy  drinks  fruit  spices\n",
      "location                                        \n",
      "checkout     0.000  0.246   0.283  0.344   0.127\n",
      "dairy        0.456  0.000   0.023  0.261   0.260\n",
      "drinks       0.290  0.268   0.001  0.178   0.263\n",
      "fruit        0.547  0.174   0.167  0.001   0.111\n",
      "spices       0.358  0.245   0.225  0.172   0.000\n"
     ]
    }
   ],
   "source": [
    "transition_matrix = transition_matrix = pd.read_csv(\"./data/trans_prob.csv\")\n",
    "transition_matrix.set_index('location', inplace = True)\n",
    "\n",
    "print(transition_matrix)"
   ]
  },
  {
   "cell_type": "code",
   "execution_count": 9,
   "metadata": {},
   "outputs": [
    {
     "data": {
      "text/plain": [
       "5.0"
      ]
     },
     "execution_count": 9,
     "metadata": {},
     "output_type": "execute_result"
    }
   ],
   "source": [
    "# check the matrix sum(sum each row) == 5 ---> ok!\n",
    "sum(transition_matrix.sum(axis=1))"
   ]
  },
  {
   "cell_type": "code",
   "execution_count": 20,
   "metadata": {},
   "outputs": [
    {
     "data": {
      "text/plain": [
       "checkout    0.000\n",
       "dairy       0.246\n",
       "drinks      0.283\n",
       "fruit       0.344\n",
       "spices      0.127\n",
       "Name: checkout, dtype: float64"
      ]
     },
     "execution_count": 20,
     "metadata": {},
     "output_type": "execute_result"
    }
   ],
   "source": [
    "transition_matrix.iloc[0,:]"
   ]
  },
  {
   "cell_type": "code",
   "execution_count": 23,
   "metadata": {},
   "outputs": [],
   "source": [
    "import numpy as np\n",
    "\n",
    "class Customer:\n",
    "    \"\"\"Customer class for Supermarket simulation\"\"\"\n",
    "    \n",
    "    def __init__(self, customer_no, state, transition_mat, transition_name):\n",
    "        self.cusctomer_no = customer_no\n",
    "        self.state = state\n",
    "        self.transition_mat = transition_mat    # transition matrix\n",
    "        self.transition_name = transition_name # possible sequence of events\n",
    "\n",
    "    def __repr__(self):\n",
    "        return f'Customer {self.customer_no} is in the {self.state} section.'\n",
    "    \n",
    "    def change_state(self):\n",
    "        self.state = np.random.choice()"
   ]
  }
 ],
 "metadata": {
  "kernelspec": {
   "display_name": "Python 3",
   "language": "python",
   "name": "python3"
  },
  "language_info": {
   "codemirror_mode": {
    "name": "ipython",
    "version": 3
   },
   "file_extension": ".py",
   "mimetype": "text/x-python",
   "name": "python",
   "nbconvert_exporter": "python",
   "pygments_lexer": "ipython3",
   "version": "3.8.5"
  }
 },
 "nbformat": 4,
 "nbformat_minor": 4
}
