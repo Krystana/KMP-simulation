{
 "cells": [
  {
   "cell_type": "code",
   "execution_count": 1,
   "metadata": {},
   "outputs": [],
   "source": [
    "import pandas as pd \n",
    "import numpy as np\n",
    "import random"
   ]
  },
  {
   "cell_type": "code",
   "execution_count": 2,
   "metadata": {},
   "outputs": [
    {
     "name": "stdout",
     "output_type": "stream",
     "text": [
      "          checkout     dairy    drinks     fruit    spices\n",
      "location                                                  \n",
      "checkout  0.999121  0.000216  0.000248  0.000303  0.000111\n",
      "dairy     0.061823  0.864568  0.003069  0.035356  0.035183\n",
      "drinks    0.116492  0.107547  0.598705  0.071664  0.105593\n",
      "fruit     0.104721  0.033201  0.031932  0.808821  0.021325\n",
      "spices    0.100893  0.068914  0.063509  0.048495  0.718189\n"
     ]
    }
   ],
   "source": [
    "transition_matrix = transition_matrix = pd.read_csv(\"../data_analysis/trans_matrix_prob.csv\")\n",
    "transition_matrix.set_index('location', inplace = True)\n",
    "#transition_matrix.drop('Unnamed: 0', axis=1, inplace=True)\n",
    "print(transition_matrix)"
   ]
  },
  {
   "cell_type": "code",
   "execution_count": 3,
   "metadata": {},
   "outputs": [
    {
     "data": {
      "text/plain": [
       "5.0"
      ]
     },
     "execution_count": 3,
     "metadata": {},
     "output_type": "execute_result"
    }
   ],
   "source": [
    "# check the matrix sum(sum each row) == 5 ---> ok!\n",
    "sum(transition_matrix.sum(axis=1))"
   ]
  },
  {
   "cell_type": "code",
   "execution_count": 4,
   "metadata": {},
   "outputs": [
    {
     "data": {
      "text/plain": [
       "checkout    0.999121\n",
       "dairy       0.000216\n",
       "drinks      0.000248\n",
       "fruit       0.000303\n",
       "spices      0.000111\n",
       "Name: checkout, dtype: float64"
      ]
     },
     "execution_count": 4,
     "metadata": {},
     "output_type": "execute_result"
    }
   ],
   "source": [
    "# to select row of transition matrix: transition_matrix.iloc[i,:]\n",
    "transition_matrix.iloc[0,:]"
   ]
  },
  {
   "cell_type": "code",
   "execution_count": 5,
   "metadata": {},
   "outputs": [],
   "source": [
    "# define state\n",
    "state = ['checkout', 'dairy', 'drinks', 'fruit', 'spices']"
   ]
  },
  {
   "cell_type": "code",
   "execution_count": 6,
   "metadata": {},
   "outputs": [],
   "source": [
    "# define transition name: possible sequence of events\n",
    "transition_name = [['CkCk', 'CkDa', 'CkDr', 'CkFr', 'CkSp' ],\n",
    "                   ['DaCk', 'DaDa', 'DaDr', 'DaFr', 'DaSp' ],\n",
    "                   ['DrCk', 'DrDa', 'DrDr', 'DrFr', 'DrSp' ],\n",
    "                   ['FrCk', 'FrDa', 'FrDr', 'FrFr', 'FrSp' ],\n",
    "                   ['SpCk', 'SpDa', 'SpDr', 'SpFr', 'SpSp' ]]"
   ]
  },
  {
   "cell_type": "code",
   "execution_count": 7,
   "metadata": {},
   "outputs": [],
   "source": [
    "import numpy as np\n",
    "\n",
    "class Customer:\n",
    "    \"\"\"Customer class for Supermarket simulation\"\"\"\n",
    "    \n",
    "    def __init__(self, customer_no, state, transition_matrix):\n",
    "        self.customer_no = customer_no\n",
    "        self.state = state\n",
    "        self.transition_matrix = transition_matrix    # transition matrix\n",
    "        \n",
    "    def __repr__(self):\n",
    "        return f'Customer {self.customer_no} is in the {self.state} section.'\n",
    "         \n",
    "    def change_state(self):\n",
    "            self.state = np.random.choice(self.transition_matrix.columns.values, p=self.transition_matrix.loc[self.state])"
   ]
  },
  {
   "cell_type": "code",
   "execution_count": 8,
   "metadata": {},
   "outputs": [],
   "source": [
    "c1 = Customer(1, 'spices', transition_matrix)"
   ]
  },
  {
   "cell_type": "code",
   "execution_count": 9,
   "metadata": {},
   "outputs": [],
   "source": [
    "c1.change_state()"
   ]
  },
  {
   "cell_type": "code",
   "execution_count": 10,
   "metadata": {},
   "outputs": [
    {
     "data": {
      "text/plain": [
       "'spices'"
      ]
     },
     "execution_count": 10,
     "metadata": {},
     "output_type": "execute_result"
    }
   ],
   "source": [
    "c1.state"
   ]
  },
  {
   "cell_type": "code",
   "execution_count": 11,
   "metadata": {},
   "outputs": [
    {
     "data": {
      "text/plain": [
       "checkout    0.100893\n",
       "dairy       0.068914\n",
       "drinks      0.063509\n",
       "fruit       0.048495\n",
       "spices      0.718189\n",
       "Name: spices, dtype: float64"
      ]
     },
     "execution_count": 11,
     "metadata": {},
     "output_type": "execute_result"
    }
   ],
   "source": [
    "transition_matrix.loc[c1.state]"
   ]
  },
  {
   "cell_type": "code",
   "execution_count": 17,
   "metadata": {},
   "outputs": [
    {
     "data": {
      "text/plain": [
       "0.9999999999999999"
      ]
     },
     "execution_count": 17,
     "metadata": {},
     "output_type": "execute_result"
    }
   ],
   "source": [
    "transition_matrix.loc['fruit'].sum()"
   ]
  }
 ],
 "metadata": {
  "kernelspec": {
   "display_name": "Python 3",
   "language": "python",
   "name": "python3"
  },
  "language_info": {
   "codemirror_mode": {
    "name": "ipython",
    "version": 3
   },
   "file_extension": ".py",
   "mimetype": "text/x-python",
   "name": "python",
   "nbconvert_exporter": "python",
   "pygments_lexer": "ipython3",
   "version": "3.8.5"
  }
 },
 "nbformat": 4,
 "nbformat_minor": 4
}
