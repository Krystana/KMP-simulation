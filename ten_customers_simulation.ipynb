{
 "cells": [
  {
   "cell_type": "code",
   "execution_count": 5,
   "metadata": {},
   "outputs": [],
   "source": [
    "import pandas as pd \n",
    "import numpy as np \n"
   ]
  },
  {
   "cell_type": "code",
   "execution_count": 6,
   "metadata": {},
   "outputs": [
    {
     "name": "stdout",
     "output_type": "stream",
     "text": [
      "          checkout     dairy    drinks     fruit    spices\n",
      "location                                                  \n",
      "checkout  0.999121  0.000216  0.000248  0.000303  0.000111\n",
      "dairy     0.061823  0.864568  0.003069  0.035356  0.035183\n",
      "drinks    0.116492  0.107547  0.598705  0.071664  0.105593\n",
      "fruit     0.104721  0.033201  0.031932  0.808821  0.021325\n",
      "spices    0.100893  0.068914  0.063509  0.048495  0.718189\n"
     ]
    }
   ],
   "source": [
    "transition_matrix = transition_matrix = pd.read_csv(\"/home/pit/Desktop/spiced_projects/WEEK_08/KMP-simulation/data_analysis/trans_matrix_prob.csv\")\n",
    "transition_matrix.set_index('location', inplace = True)\n",
    "#transition_matrix.drop('Unnamed: 0', axis=1, inplace=True)\n",
    "print(transition_matrix)"
   ]
  },
  {
   "cell_type": "code",
   "execution_count": 7,
   "metadata": {},
   "outputs": [
    {
     "data": {
      "text/plain": [
       "5.0"
      ]
     },
     "execution_count": 7,
     "metadata": {},
     "output_type": "execute_result"
    }
   ],
   "source": [
    "# check the matrix sum(sum each row) == 5 ---> ok!\n",
    "sum(transition_matrix.sum(axis=1))"
   ]
  },
  {
   "cell_type": "code",
   "execution_count": 8,
   "metadata": {},
   "outputs": [
    {
     "data": {
      "text/plain": [
       "checkout    0.999121\n",
       "dairy       0.000216\n",
       "drinks      0.000248\n",
       "fruit       0.000303\n",
       "spices      0.000111\n",
       "Name: checkout, dtype: float64"
      ]
     },
     "execution_count": 8,
     "metadata": {},
     "output_type": "execute_result"
    }
   ],
   "source": [
    "# to select row of transition matrix: transition_matrix.iloc[i,:]\n",
    "transition_matrix.iloc[0,:]"
   ]
  },
  {
   "cell_type": "code",
   "execution_count": 9,
   "metadata": {},
   "outputs": [],
   "source": [
    "# define state\n",
    "state = ['checkout', 'dairy', 'drinks', 'fruit', 'spices']"
   ]
  },
  {
   "cell_type": "code",
   "execution_count": 10,
   "metadata": {},
   "outputs": [],
   "source": [
    "# define transition name: possible sequence of events\n",
    "transition_name = [['CkCk', 'CkDa', 'CkDr', 'CkFr', 'CkSp' ],\n",
    "                   ['DaCk', 'DaDa', 'DaDr', 'DaFr', 'DaSp' ],\n",
    "                   ['DrCk', 'DrDa', 'DrDr', 'DrFr', 'DrSp' ],\n",
    "                   ['FrCk', 'FrDa', 'FrDr', 'FrFr', 'FrSp' ],\n",
    "                   ['SpCk', 'SpDa', 'SpDr', 'SpFr', 'SpSp' ]]"
   ]
  },
  {
   "cell_type": "code",
   "execution_count": 108,
   "metadata": {},
   "outputs": [],
   "source": [
    "import numpy as np\n",
    "\n",
    "class Customer:\n",
    "    \"\"\"Customer class for Supermarket simulation\"\"\"\n",
    "    \n",
    "    def __init__(self, customer_no, state, transition_matrix):\n",
    "        self.customer_no = customer_no\n",
    "        self.state = state\n",
    "        self.transition_matrix = transition_matrix    # transition matrix\n",
    "        \n",
    "    def __repr__(self):\n",
    "        return f'Customer {self.customer_no} is in the {self.state} section'\n",
    "         \n",
    "        \n",
    "    \n",
    "    \n",
    "    \n",
    "    def change_state(self):\n",
    "            \n",
    "            #print(self.state)\n",
    "            \n",
    "               \n",
    "            self.state = np.random.choice(self.transition_matrix.columns.values, p=self.transition_matrix.loc[self.state]) #, replace=False)\n",
    "            \n",
    "   # random.choices"
   ]
  },
  {
   "cell_type": "markdown",
   "metadata": {},
   "source": [
    "## simulation for 1 customer"
   ]
  },
  {
   "cell_type": "code",
   "execution_count": 116,
   "metadata": {},
   "outputs": [],
   "source": [
    "c1 = Customer(1, 'drinks', transition_matrix)"
   ]
  },
  {
   "cell_type": "code",
   "execution_count": 123,
   "metadata": {
    "scrolled": true
   },
   "outputs": [
    {
     "data": {
      "text/plain": [
       "'drinks'"
      ]
     },
     "execution_count": 123,
     "metadata": {},
     "output_type": "execute_result"
    }
   ],
   "source": [
    "c1.state"
   ]
  },
  {
   "cell_type": "code",
   "execution_count": 130,
   "metadata": {},
   "outputs": [],
   "source": [
    "c1.change_state()"
   ]
  },
  {
   "cell_type": "code",
   "execution_count": 131,
   "metadata": {},
   "outputs": [
    {
     "data": {
      "text/plain": [
       "'fruit'"
      ]
     },
     "execution_count": 131,
     "metadata": {},
     "output_type": "execute_result"
    }
   ],
   "source": [
    "c1.state"
   ]
  },
  {
   "cell_type": "code",
   "execution_count": 105,
   "metadata": {},
   "outputs": [],
   "source": [
    "customers = [Customer(i, 'fruit',transition_matrix) for i in range(10)]"
   ]
  },
  {
   "cell_type": "code",
   "execution_count": 106,
   "metadata": {},
   "outputs": [
    {
     "name": "stdout",
     "output_type": "stream",
     "text": [
      "Customer 9 has been churned!\n"
     ]
    }
   ],
   "source": [
    "for i, c in enumerate(customers): #at each minute, move all customers\n",
    "    c.change_state()\n",
    "    if c.state == 'checkout':\n",
    "        print(f'Customer {i} has been churned!')"
   ]
  },
  {
   "cell_type": "code",
   "execution_count": 107,
   "metadata": {},
   "outputs": [
    {
     "data": {
      "text/plain": [
       "[Customer 0 is in the dairy section,\n",
       " Customer 1 is in the fruit section,\n",
       " Customer 2 is in the fruit section,\n",
       " Customer 3 is in the fruit section,\n",
       " Customer 4 is in the fruit section,\n",
       " Customer 5 is in the fruit section,\n",
       " Customer 6 is in the fruit section,\n",
       " Customer 7 is in the fruit section,\n",
       " Customer 8 is in the fruit section,\n",
       " Customer 9 is in the checkout section]"
      ]
     },
     "execution_count": 107,
     "metadata": {},
     "output_type": "execute_result"
    }
   ],
   "source": [
    "customers"
   ]
  },
  {
   "cell_type": "markdown",
   "metadata": {},
   "source": [
    "## create class Supermarket"
   ]
  },
  {
   "cell_type": "code",
   "execution_count": null,
   "metadata": {},
   "outputs": [],
   "source": [
    "class Supermarket:\n",
    "    \"\"\"manages multiple Customer instances that are currently in the market.\n",
    " \"\"\"\n",
    "\n",
    "    def __init__(self, customers, state):\n",
    "        self.customers = customers\n",
    "        self.state = state\n",
    "   #def get_time():\n",
    "     #\"\"\"current time in HH:MM format,\n",
    "     #\"\"\"\n",
    "    def next_minute(self):\n",
    "        \"\"\"propagates all customers to the next state \n",
    "        w/ change_state\n",
    "     \"\"\"\n",
    "    def remove_ex_customers(self):\n",
    "        \"\"\"remove churned from list\"\"\"\n",
    "\n",
    "    def add_new_customers(self):\n",
    "    \"\"\" new list of customers ready to change state \"\"\"\n",
    "     \n",
    "    \n",
    "\n",
    "   "
   ]
  },
  {
   "cell_type": "code",
   "execution_count": null,
   "metadata": {},
   "outputs": [],
   "source": []
  },
  {
   "cell_type": "code",
   "execution_count": null,
   "metadata": {},
   "outputs": [],
   "source": []
  },
  {
   "cell_type": "code",
   "execution_count": null,
   "metadata": {},
   "outputs": [],
   "source": []
  },
  {
   "cell_type": "code",
   "execution_count": null,
   "metadata": {},
   "outputs": [],
   "source": []
  },
  {
   "cell_type": "code",
   "execution_count": null,
   "metadata": {},
   "outputs": [],
   "source": []
  },
  {
   "cell_type": "code",
   "execution_count": null,
   "metadata": {},
   "outputs": [],
   "source": []
  },
  {
   "cell_type": "code",
   "execution_count": null,
   "metadata": {},
   "outputs": [],
   "source": []
  },
  {
   "cell_type": "code",
   "execution_count": null,
   "metadata": {},
   "outputs": [],
   "source": []
  },
  {
   "cell_type": "code",
   "execution_count": null,
   "metadata": {},
   "outputs": [],
   "source": []
  },
  {
   "cell_type": "code",
   "execution_count": null,
   "metadata": {},
   "outputs": [],
   "source": []
  }
 ],
 "metadata": {
  "kernelspec": {
   "display_name": "Python 3",
   "language": "python",
   "name": "python3"
  },
  "language_info": {
   "codemirror_mode": {
    "name": "ipython",
    "version": 3
   },
   "file_extension": ".py",
   "mimetype": "text/x-python",
   "name": "python",
   "nbconvert_exporter": "python",
   "pygments_lexer": "ipython3",
   "version": "3.8.5"
  }
 },
 "nbformat": 4,
 "nbformat_minor": 4
}
